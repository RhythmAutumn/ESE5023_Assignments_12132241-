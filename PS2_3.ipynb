{
 "cells": [
  {
   "cell_type": "code",
   "execution_count": 1,
   "id": "8c52ecc1",
   "metadata": {},
   "outputs": [],
   "source": [
    "import pandas as pd"
   ]
  },
  {
   "cell_type": "code",
   "execution_count": 12,
   "id": "51398bca",
   "metadata": {},
   "outputs": [
    {
     "data": {
      "text/html": [
       "<div>\n",
       "<style scoped>\n",
       "    .dataframe tbody tr th:only-of-type {\n",
       "        vertical-align: middle;\n",
       "    }\n",
       "\n",
       "    .dataframe tbody tr th {\n",
       "        vertical-align: top;\n",
       "    }\n",
       "\n",
       "    .dataframe thead th {\n",
       "        text-align: right;\n",
       "    }\n",
       "</style>\n",
       "<table border=\"1\" class=\"dataframe\">\n",
       "  <thead>\n",
       "    <tr style=\"text-align: right;\">\n",
       "      <th></th>\n",
       "      <th>#</th>\n",
       "      <th>Date Time</th>\n",
       "      <th>GMT+08:00</th>\n",
       "      <th>Event</th>\n",
       "      <th>Unnamed: 4</th>\n",
       "      <th>Unnamed: 5</th>\n",
       "      <th>Unnamed: 6</th>\n",
       "      <th>Unnamed: 7</th>\n",
       "      <th>Unnamed: 8</th>\n",
       "    </tr>\n",
       "  </thead>\n",
       "  <tbody>\n",
       "    <tr>\n",
       "      <th>10</th>\n",
       "      <td>11</td>\n",
       "      <td>2016/7/24</td>\n",
       "      <td>����2ʱ25��24��</td>\n",
       "      <td>1</td>\n",
       "      <td>NaN</td>\n",
       "      <td>NaN</td>\n",
       "      <td>NaN</td>\n",
       "      <td>NaN</td>\n",
       "      <td>NaN</td>\n",
       "    </tr>\n",
       "    <tr>\n",
       "      <th>11</th>\n",
       "      <td>12</td>\n",
       "      <td>2016/7/24</td>\n",
       "      <td>����2ʱ30��03��</td>\n",
       "      <td>2</td>\n",
       "      <td>NaN</td>\n",
       "      <td>NaN</td>\n",
       "      <td>NaN</td>\n",
       "      <td>NaN</td>\n",
       "      <td>NaN</td>\n",
       "    </tr>\n",
       "    <tr>\n",
       "      <th>12</th>\n",
       "      <td>13</td>\n",
       "      <td>2016/7/24</td>\n",
       "      <td>����2ʱ36��09��</td>\n",
       "      <td>3</td>\n",
       "      <td>NaN</td>\n",
       "      <td>NaN</td>\n",
       "      <td>NaN</td>\n",
       "      <td>NaN</td>\n",
       "      <td>NaN</td>\n",
       "    </tr>\n",
       "    <tr>\n",
       "      <th>14</th>\n",
       "      <td>15</td>\n",
       "      <td>2016/7/24</td>\n",
       "      <td>����2ʱ44��15��</td>\n",
       "      <td>4</td>\n",
       "      <td>NaN</td>\n",
       "      <td>NaN</td>\n",
       "      <td>NaN</td>\n",
       "      <td>NaN</td>\n",
       "      <td>NaN</td>\n",
       "    </tr>\n",
       "    <tr>\n",
       "      <th>16</th>\n",
       "      <td>17</td>\n",
       "      <td>2016/7/24</td>\n",
       "      <td>����2ʱ56��10��</td>\n",
       "      <td>5</td>\n",
       "      <td>NaN</td>\n",
       "      <td>NaN</td>\n",
       "      <td>NaN</td>\n",
       "      <td>NaN</td>\n",
       "      <td>NaN</td>\n",
       "    </tr>\n",
       "    <tr>\n",
       "      <th>...</th>\n",
       "      <td>...</td>\n",
       "      <td>...</td>\n",
       "      <td>...</td>\n",
       "      <td>...</td>\n",
       "      <td>...</td>\n",
       "      <td>...</td>\n",
       "      <td>...</td>\n",
       "      <td>...</td>\n",
       "      <td>...</td>\n",
       "    </tr>\n",
       "    <tr>\n",
       "      <th>32401</th>\n",
       "      <td>32402</td>\n",
       "      <td>2018/10/5</td>\n",
       "      <td>����12ʱ40��01��</td>\n",
       "      <td>8297</td>\n",
       "      <td>NaN</td>\n",
       "      <td>NaN</td>\n",
       "      <td>NaN</td>\n",
       "      <td>NaN</td>\n",
       "      <td>NaN</td>\n",
       "    </tr>\n",
       "    <tr>\n",
       "      <th>32402</th>\n",
       "      <td>32403</td>\n",
       "      <td>2018/10/5</td>\n",
       "      <td>����12ʱ46��57��</td>\n",
       "      <td>8298</td>\n",
       "      <td>NaN</td>\n",
       "      <td>NaN</td>\n",
       "      <td>NaN</td>\n",
       "      <td>NaN</td>\n",
       "      <td>NaN</td>\n",
       "    </tr>\n",
       "    <tr>\n",
       "      <th>32403</th>\n",
       "      <td>32404</td>\n",
       "      <td>2018/10/5</td>\n",
       "      <td>����1ʱ01��10��</td>\n",
       "      <td>8299</td>\n",
       "      <td>NaN</td>\n",
       "      <td>NaN</td>\n",
       "      <td>NaN</td>\n",
       "      <td>NaN</td>\n",
       "      <td>NaN</td>\n",
       "    </tr>\n",
       "    <tr>\n",
       "      <th>32408</th>\n",
       "      <td>32409</td>\n",
       "      <td>2018/10/5</td>\n",
       "      <td>����4ʱ35��18��</td>\n",
       "      <td>8300</td>\n",
       "      <td>NaN</td>\n",
       "      <td>NaN</td>\n",
       "      <td>NaN</td>\n",
       "      <td>NaN</td>\n",
       "      <td>NaN</td>\n",
       "    </tr>\n",
       "    <tr>\n",
       "      <th>32451</th>\n",
       "      <td>32452</td>\n",
       "      <td>2018/10/6</td>\n",
       "      <td>����11ʱ01��36��</td>\n",
       "      <td>8301</td>\n",
       "      <td>NaN</td>\n",
       "      <td>NaN</td>\n",
       "      <td>NaN</td>\n",
       "      <td>NaN</td>\n",
       "      <td>NaN</td>\n",
       "    </tr>\n",
       "  </tbody>\n",
       "</table>\n",
       "<p>8301 rows × 9 columns</p>\n",
       "</div>"
      ],
      "text/plain": [
       "           #  Date Time        GMT+08:00  Event Unnamed: 4 Unnamed: 5  \\\n",
       "10        11  2016/7/24   ����2ʱ25��24��      1        NaN        NaN   \n",
       "11        12  2016/7/24   ����2ʱ30��03��      2        NaN        NaN   \n",
       "12        13  2016/7/24   ����2ʱ36��09��      3        NaN        NaN   \n",
       "14        15  2016/7/24   ����2ʱ44��15��      4        NaN        NaN   \n",
       "16        17  2016/7/24   ����2ʱ56��10��      5        NaN        NaN   \n",
       "...      ...        ...              ...    ...        ...        ...   \n",
       "32401  32402  2018/10/5  ����12ʱ40��01��   8297        NaN        NaN   \n",
       "32402  32403  2018/10/5  ����12ʱ46��57��   8298        NaN        NaN   \n",
       "32403  32404  2018/10/5   ����1ʱ01��10��   8299        NaN        NaN   \n",
       "32408  32409  2018/10/5   ����4ʱ35��18��   8300        NaN        NaN   \n",
       "32451  32452  2018/10/6  ����11ʱ01��36��   8301        NaN        NaN   \n",
       "\n",
       "      Unnamed: 6 Unnamed: 7 Unnamed: 8  \n",
       "10           NaN        NaN        NaN  \n",
       "11           NaN        NaN        NaN  \n",
       "12           NaN        NaN        NaN  \n",
       "14           NaN        NaN        NaN  \n",
       "16           NaN        NaN        NaN  \n",
       "...          ...        ...        ...  \n",
       "32401        NaN        NaN        NaN  \n",
       "32402        NaN        NaN        NaN  \n",
       "32403        NaN        NaN        NaN  \n",
       "32408        NaN        NaN        NaN  \n",
       "32451        NaN        NaN        NaN  \n",
       "\n",
       "[8301 rows x 9 columns]"
      ]
     },
     "execution_count": 12,
     "metadata": {},
     "output_type": "execute_result"
    }
   ],
   "source": [
    "#PS2_3.1\n",
    "df=pd.read_csv('Z2909.csv')\n",
    "df1=df[df['Event']!=-999]\n",
    "df1"
   ]
  },
  {
   "cell_type": "code",
   "execution_count": 50,
   "id": "a893048e",
   "metadata": {},
   "outputs": [
    {
     "data": {
      "text/plain": [
       "<AxesSubplot:title={'center':'Times of observation every month in Tibetan Plateau somewhere'}, xlabel='YEAR,MONTH', ylabel='Times'>"
      ]
     },
     "execution_count": 50,
     "metadata": {},
     "output_type": "execute_result"
    },
    {
     "data": {
      "image/png": "[encoded data removed]",
      "text/plain": [
       "<Figure size 432x288 with 1 Axes>"
      ]
     },
     "metadata": {
      "needs_background": "light"
     },
     "output_type": "display_data"
    }
   ],
   "source": [
    "#PS2_3.2\n",
    "# To split the column 'Date Time'\n",
    "df['YEAR'] = pd.to_datetime(df['Date Time']).dt.year\n",
    "df['MONTH'] = pd.to_datetime(df['Date Time']).dt.month\n",
    "\n",
    "#To groupby\n",
    "S1=df.groupby([\"YEAR\",\"MONTH\"]).count()['Event']\n",
    "\n",
    "#To plot\n",
    "import matplotlib.pyplot as plt\n",
    "plt.title(\"Times of observation every month in Tibetan Plateau somewhere\")\n",
    "plt.ylabel(\"Times\")\n",
    "S1.plot()"
   ]
  },
  {
   "cell_type": "code",
   "execution_count": 47,
   "id": "e3760ce9",
   "metadata": {},
   "outputs": [
    {
     "data": {
      "text/plain": [
       "758"
      ]
     },
     "execution_count": 47,
     "metadata": {},
     "output_type": "execute_result"
    }
   ],
   "source": [
    "#PS2_3.3\n",
    "#The maximum number of times of precipitation observed in this site every month\n",
    "df1.groupby([\"YEAR\",\"MONTH\"]).count()['Event'].max()"
   ]
  },
  {
   "cell_type": "code",
   "execution_count": 48,
   "id": "74f33aed",
   "metadata": {},
   "outputs": [
    {
     "data": {
      "text/plain": [
       "6"
      ]
     },
     "execution_count": 48,
     "metadata": {},
     "output_type": "execute_result"
    }
   ],
   "source": [
    "#PS2_3.3\n",
    "#The minimum number of times of precipitation observed in this site every month if there is at least a rain in this month\n",
    "df1.groupby([\"YEAR\",\"MONTH\"]).count()['Event'].min()"
   ]
  },
  {
   "cell_type": "code",
   "execution_count": 66,
   "id": "5d1ce39c",
   "metadata": {},
   "outputs": [
    {
     "data": {
      "text/plain": [
       "8301"
      ]
     },
     "execution_count": 66,
     "metadata": {},
     "output_type": "execute_result"
    }
   ],
   "source": [
    "#PS2_3.3\n",
    "#The sum of the number of times of precipitation observed in this site during this time \n",
    "df1.groupby([\"YEAR\",\"MONTH\"]).count()['Event'].sum()"
   ]
  },
  {
   "cell_type": "code",
   "execution_count": 67,
   "id": "8a830077",
   "metadata": {},
   "outputs": [
    {
     "data": {
      "text/plain": [
       "345.875"
      ]
     },
     "execution_count": 67,
     "metadata": {},
     "output_type": "execute_result"
    }
   ],
   "source": [
    "#PS2_3.3\n",
    "#The average number of times of precipitation observed in this site every month if there is at least a rain in this month\n",
    "df1.groupby([\"YEAR\",\"MONTH\"]).count()['Event'].mean()"
   ]
  },
  {
   "cell_type": "code",
   "execution_count": 69,
   "id": "fd119027",
   "metadata": {},
   "outputs": [
    {
     "data": {
      "text/plain": [
       "56733.85326086957"
      ]
     },
     "execution_count": 69,
     "metadata": {},
     "output_type": "execute_result"
    }
   ],
   "source": [
    "#PS2_3.3\n",
    "#The variance of the number of times of precipitation observed in this site every month if there is at least a rain in this month\n",
    "df1.groupby([\"YEAR\",\"MONTH\"]).count()['Event'].var()"
   ]
  },
  {
   "cell_type": "code",
   "execution_count": null,
   "id": "24f76f40",
   "metadata": {},
   "outputs": [],
   "source": []
  }
 ],
 "metadata": {
  "kernelspec": {
   "display_name": "Python 3",
   "language": "python",
   "name": "python3"
  },
  "language_info": {
   "codemirror_mode": {
    "name": "ipython",
    "version": 3
   },
   "file_extension": ".py",
   "mimetype": "text/x-python",
   "name": "python",
   "nbconvert_exporter": "python",
   "pygments_lexer": "ipython3",
   "version": "3.8.8"
  }
 },
 "nbformat": 4,
 "nbformat_minor": 5
}
